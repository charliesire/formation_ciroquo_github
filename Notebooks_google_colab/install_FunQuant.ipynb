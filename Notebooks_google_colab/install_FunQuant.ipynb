{
  "nbformat": 4,
  "nbformat_minor": 0,
  "metadata": {
    "colab": {
      "provenance": []
    },
    "kernelspec": {
      "name": "ir",
      "display_name": "R"
    },
    "language_info": {
      "name": "R"
    }
  },
  "cells": [
    {
      "cell_type": "code",
      "execution_count": 6,
      "metadata": {
        "colab": {
          "base_uri": "https://localhost:8080/"
        },
        "id": "fg8ZEhk9Lslv",
        "outputId": "4cacfcff-fd31-4ea6-e45b-be2a043a6bc4"
      },
      "outputs": [
        {
          "output_type": "stream",
          "name": "stderr",
          "text": [
            "Downloading GitHub repo tranvivielodie/GpOutput2D@HEAD\n",
            "\n"
          ]
        },
        {
          "output_type": "stream",
          "name": "stdout",
          "text": [
            "\n",
            "\u001b[36m──\u001b[39m \u001b[36mR CMD build\u001b[39m \u001b[36m─────────────────────────────────────────────────────────────────\u001b[39m\n",
            "* checking for file ‘/tmp/RtmpwbBGoM/remotes1f5769f78d2/tranvivielodie-GpOutput2D-9f779d3/GpOutput2D/DESCRIPTION’ ... OK\n",
            "* preparing ‘GpOutput2D’:\n",
            "* checking DESCRIPTION meta-information ... OK\n",
            "* checking for LF line-endings in source and make files and shell scripts\n",
            "* checking for empty or unneeded directories\n",
            "Omitted ‘LazyData’ from DESCRIPTION\n",
            "* building ‘GpOutput2D_0.1.0.tar.gz’\n",
            "\n"
          ]
        },
        {
          "output_type": "stream",
          "name": "stderr",
          "text": [
            "Installing package into ‘/usr/local/lib/R/site-library’\n",
            "(as ‘lib’ is unspecified)\n",
            "\n",
            "Installing package into ‘/usr/local/lib/R/site-library’\n",
            "(as ‘lib’ is unspecified)\n",
            "\n",
            "Warning message in install.packages(\"rlibkriging\"):\n",
            "“installation of package ‘rlibkriging’ had non-zero exit status”\n",
            "Installing package into ‘/usr/local/lib/R/site-library’\n",
            "(as ‘lib’ is unspecified)\n",
            "\n",
            "Warning message in install.packages(\"C:/Users/sire-cha/Downloads/FunQuant-1.1.2.tar.gz\", :\n",
            "“installation of package ‘C:/Users/sire-cha/Downloads/FunQuant-1.1.2.tar.gz’ had non-zero exit status”\n"
          ]
        }
      ],
      "source": [
        "library(devtools)\n",
        "install_github(\"tranvivielodie/GpOutput2D/GpOutput2D\", force = TRUE)\n",
        "install.packages(\"rlibkriging\")\n",
        "install.packages('C:/Users/sire-cha/Downloads/FunQuant-1.1.2.tar.gz', repos=NULL, type='source')\n",
        "\n",
        "#remotes::install_github(\"CharlieSire/FunQuant\") # when repo will becom public\n",
        "#remotes::install_local(\"FunQuant-main.zip\") # once uploaded in colab path\n",
        "#install.packages(\\\"remotes\\\") # when released on CRAN\n",
        "\n",
        "#install.packages(\"randtoolbox\")\n",
        "#install.packages(\"evd\")\n",
        "#install.packages(\"ggplot2\")\n",
        "#install.packages(\"gridExtra\")"
      ]
    },
    {
      "cell_type": "code",
      "source": [
        "library(FunQuant)\n"
      ],
      "metadata": {
        "id": "4fwm8jl3MCgD",
        "outputId": "a895639e-7fa7-41a1-d409-aa2244ad3d64",
        "colab": {
          "base_uri": "https://localhost:8080/",
          "height": 141
        }
      },
      "execution_count": 1,
      "outputs": [
        {
          "output_type": "error",
          "ename": "ERROR",
          "evalue": "ignored",
          "traceback": [
            "Error in library(FunQuant): there is no package called ‘FunQuant’\nTraceback:\n",
            "1. library(FunQuant)"
          ]
        }
      ]
    },
    {
      "cell_type": "markdown",
      "source": [
        "# Variables\n",
        "\n",
        "We consider $X = (X_{1},X_{2}) \\in \\mathbb{R}^2$ a random input of a computer code $H$, with\n",
        "$$\\left\\{\n",
        "    \\begin{array}{ll}\n",
        "        X_{1} \\sim \\mathcal{U}(-1,1)\\\\\n",
        "        X_{2} \\sim tGEV(-0.4,0.1,0, -1, 1) \\\\\n",
        "        X_{1} \\text{ and }X_{2}\\text{ independent}\n",
        "    \\end{array}\n",
        "\\right.$$\n",
        "\n",
        "Where $tGEV(\\mu,\\sigma,\\xi,a,b)$ is the generalized extreme value distribution of location $\\mu$, scale $\\sigma$ and shape $\\xi$, truncated between $a$ and $b$."
      ],
      "metadata": {
        "id": "EioBxZsqOTso"
      }
    },
    {
      "cell_type": "code",
      "source": [
        "f2 = function(x){\n",
        "  res = 0\n",
        "  ptrunc = pgev(-1, loc=-0.4,scale=0.1) + 1 - pgev(1, loc=-0.4,scale=0.1)\n",
        "  if(x>=-1 & x < 1){res = dgev(x, loc=-0.4,scale=0.1)/(1-ptrunc)}\n",
        "  return(res)\n",
        "}\n",
        "f1 = function(x){\n",
        "  if(x > -1 & x < 1){return(1/2)}\n",
        "  else{return(0)}\n",
        "}\n",
        "fX = function(x){f1(x[1])*f2(x[2])}"
      ],
      "metadata": {
        "id": "AYkQTqVAPBQN"
      },
      "execution_count": null,
      "outputs": []
    },
    {
      "cell_type": "markdown",
      "source": [
        "The density of $X_{2}$ is represented in the next plot\n",
        "\n"
      ],
      "metadata": {
        "id": "WmOORDfEPJ25"
      }
    },
    {
      "cell_type": "code",
      "source": [
        "plot(seq(-1,1,l=1000), Vectorize(f2)(seq(-1,1,l=1000)), type = \"l\")\n"
      ],
      "metadata": {
        "id": "MRitKkt1PHUu"
      },
      "execution_count": null,
      "outputs": []
    },
    {
      "cell_type": "markdown",
      "source": [
        "The computer code $H$ return, for a given input $x \\in \\mathbb{R}^{2}$, a $20\\times 20$ map.\n",
        "\n",
        "We have $H(x) \\approx 0$ if $x_{2} < -0.1.$"
      ],
      "metadata": {
        "id": "V-VocsKBPc_h"
      }
    },
    {
      "cell_type": "code",
      "source": [
        "step_conti = function(x){1/2*(1+2/pi*atan((x+0.1)*10^5))}\n",
        "\n",
        "H <- function(X){\n",
        "  Zgrid <- expand.grid(z1 = seq(-5,5,l=20),z2 = seq(-5,5,l=20))\n",
        "  n<-nrow(X)\n",
        "  Y <- lapply(1:n, function(i){step_conti(X[i,2])*(X[i,2]*X[i,1]*exp(-((0.8*Zgrid$z1+0.2*Zgrid$z2-10*X[i,1])**2)/(60*X[i,1]**2))*(Zgrid$z1-Zgrid$z2)*cos(X[i,1]*4)^2/log(7+Zgrid$z2+2.01+X[i,1]+X[i,2]) - Zgrid$z1/40*dnorm(cos(X[i,1])) + abs(Zgrid$z2)/30*dnorm(X[i,2]) + X[i,1] * sin(18.0 * X[i,1])/50)})\n",
        "  Ymaps<- array(unlist(Y),dim=c(20,20,n))\n",
        "  return(abs(Ymaps))\n",
        "}"
      ],
      "metadata": {
        "id": "-g4EucKYPCLn"
      },
      "execution_count": null,
      "outputs": []
    },
    {
      "cell_type": "code",
      "source": [
        "plot_map = function(map, max = NULL, min = NULL){\n",
        "  prototypes_toplot = expand.grid(seq(-5,5,l=20),seq(-5,5,l=20))\n",
        "  prototypes_toplot$f = as.numeric(map)\n",
        "  if(is.null(max))\n",
        "  {p = ggplot(prototypes_toplot) + geom_raster(aes(x = Var1, y = Var2, fill = f)) + scale_fill_continuous(type = \"viridis\",direction = -1, name = \"h\") + theme_bw()}\n",
        "  else{p = ggplot(prototypes_toplot) + geom_raster(aes(x = Var1, y = Var2, fill = f)) + scale_fill_continuous(type = \"viridis\", direction = -1, limits = c(min, max), name = \"h\") + theme_bw()  + theme(legend.text = element_text(size=13),legend.title = element_text(size=13))}\n",
        "  return(p)\n",
        "}"
      ],
      "metadata": {
        "id": "bXF71CAtPhf3"
      },
      "execution_count": null,
      "outputs": []
    },
    {
      "cell_type": "code",
      "source": [
        "plot_map(H(matrix(c(0.8,-0.2), nrow=1)))\n",
        "plot_map(H(matrix(c(0.8,0.8), nrow=1)))\n",
        "plot_map(H(matrix(c(0,0.3), nrow=1)))"
      ],
      "metadata": {
        "id": "R98e41yPPk3Z"
      },
      "execution_count": null,
      "outputs": []
    },
    {
      "cell_type": "markdown",
      "source": [
        "# Design of experiments\n",
        "\n",
        "Sobol sequence of 200 points"
      ],
      "metadata": {
        "id": "ysw6y0qiPqPL"
      }
    },
    {
      "cell_type": "code",
      "source": [
        "design = sobol(n=200,dim = 2)*2-1\n",
        "\n",
        "outputs = H(design)"
      ],
      "metadata": {
        "id": "Ok-fYPMoPnMB"
      },
      "execution_count": null,
      "outputs": []
    },
    {
      "cell_type": "markdown",
      "source": [
        "## Tuning of the FPCA parameters\n",
        "\n",
        "## Tuning with rmse\n",
        "\n",
        " For every pair $(\\tilde{K},n_{\\mathrm{pc}})$, we obtain $m$ predicted maps by loo, k\\_fold, training\\_test\n",
        "\n",
        "We can compute the RMSE map: $$y^{\\mathrm{RMSE}} = \\sqrt{\\frac{1}{n_{\\mathrm{train}}} \\sum_{i=1}^{n_{\\mathrm{train}}} (y_{i} - \\hat{y}_{i})^2}.$$\n",
        "\n",
        "Then, we choose to compute the quantile $90\\%$ of each $y^{\\mathrm{RMSE}}$."
      ],
      "metadata": {
        "id": "h8CWe4yWP45b"
      }
    },
    {
      "cell_type": "code",
      "source": [
        "set.seed(15)\n",
        "list_rmse_loo = rmse_loo(\n",
        "  outputs = outputs,\n",
        "  design = design,\n",
        "  npc_vec = 3:6,\n",
        "  ncoeff_vec = c(100,250,400),\n",
        "  return_pred = TRUE)\n",
        "\n",
        "\n",
        "quantile_90 = sapply(list_rmse_loo$outputs_rmse,\n",
        "                     function(x){quantile(x, 1)[[1]]})\n",
        "\n",
        "df_rmse = as.data.frame(cbind(list_rmse_loo$grid_cv, quantile_90))\n",
        "\n",
        "ggplot(data = df_rmse) + geom_raster(aes(x = npc, y = ncoeff, fill = quantile_90)) + theme_bw()"
      ],
      "metadata": {
        "id": "PbGFO8LWQAhP"
      },
      "execution_count": null,
      "outputs": []
    },
    {
      "cell_type": "markdown",
      "source": [
        "We select $n_{coeff} = 250$ and $n_{pc} = 6$.\n"
      ],
      "metadata": {
        "id": "IR-B_d2cQC1k"
      }
    },
    {
      "cell_type": "code",
      "source": [
        "idx = which(df_rmse$ncoeff == 250 & df_rmse$npc == 6)\n",
        "\n",
        "rmse_map = list_rmse_loo$outputs_rmse[[idx]]\n",
        "loo_maps = list_rmse_loo$outputs_pred[[idx]]\n",
        "\n",
        "plot_map(rmse_map)\n",
        "\n",
        "distance_func = function(A1,A2){return(sqrt(sum((A1-A2)^2)))}\n",
        "\n",
        "error_loo = Vectorize(function(i){distance_func(loo_maps[,,i], outputs[,,i])})(1:dim(loo_maps)[3])\n",
        "plot_map(outputs[,,which.max(error_loo)])\n",
        "plot_map(loo_maps[,,which.max(error_loo)])"
      ],
      "metadata": {
        "id": "Jd6aFyXeQGR8"
      },
      "execution_count": null,
      "outputs": []
    },
    {
      "cell_type": "markdown",
      "source": [
        "\n",
        "We then build the metamodel.\n",
        "\n",
        "For each pca axis, we plot the LOO predictions vs the true values.\n"
      ],
      "metadata": {
        "id": "8hlXDUWeQWZ7"
      }
    },
    {
      "cell_type": "code",
      "source": [
        "mm = fit_metamodel(design_train = design, outputs_train = outputs, ncoeff = 250, npc = 6, kernel = \"matern5_2\")\n",
        "\n",
        "\n",
        "list_loo = list()\n",
        "for(i in 1:length(mm$model)){\n",
        " list_loo[[i]] = mm$model[[i]]$leaveOneOutVec(theta = mm$model[[i]]$theta())$mean\n",
        " plot(x = mm$fp$x[,i], y = list_loo[[i]])\n",
        "}"
      ],
      "metadata": {
        "id": "-9gUSvjTQY6C"
      },
      "execution_count": null,
      "outputs": []
    },
    {
      "cell_type": "markdown",
      "source": [
        "## Tuning with probabilities\n",
        "\n",
        "FunQuant offers the possibilities to tune the hyperparameters regarding the predicted membership probabilities for a given set of prototypes.\n",
        "\n",
        "We can first quantize $H(X)$ with the training maps.\n",
        "The design of experiments can be seen as a uniform distribution, that we use for the importance sampling weights."
      ],
      "metadata": {
        "id": "EmFjcu7eQhMu"
      }
    },
    {
      "cell_type": "code",
      "source": [
        "g = function(x){\n",
        "  if(sum(x > -1) == length(x) & sum(x < 1) == length(x)){return(1/4)}\n",
        "  else{return(0)}\n",
        "}\n",
        "\n",
        "density_ratio = compute_density_ratio(f = fX,\n",
        "                                      g = g, inputs = design)"
      ],
      "metadata": {
        "id": "nsGXc4HvQVpP"
      },
      "execution_count": null,
      "outputs": []
    },
    {
      "cell_type": "code",
      "source": [
        "set.seed(1)\n",
        "res_proto_1 = find_prototypes(nb_cells = 6,data = outputs, multistart = 5,density_ratio = density_ratio)"
      ],
      "metadata": {
        "id": "Mm7UzZYkQnPL"
      },
      "execution_count": null,
      "outputs": []
    },
    {
      "cell_type": "code",
      "source": [
        "for(i in 1:length(res_proto_1$prototypes)){print(plot_map(res_proto_1$prototypes[[i]]))}\n",
        "res_proto_1$probas"
      ],
      "metadata": {
        "id": "8nEtqw7OQoMG"
      },
      "execution_count": null,
      "outputs": []
    },
    {
      "cell_type": "code",
      "source": [
        "set.seed(10)\n",
        "list_probas_loo = probas_loo(\n",
        "  outputs = outputs,\n",
        "  design = design,\n",
        "  density_ratio = density_ratio,\n",
        "  prototypes = res_proto_1$prototypes,\n",
        "  npc_vec = 3:6,\n",
        "  ncoeff_vec = c(100,250,400))\n",
        "\n",
        "list_probas_loo$error\n"
      ],
      "metadata": {
        "id": "dKgeoBqiQqSu"
      },
      "execution_count": null,
      "outputs": []
    },
    {
      "cell_type": "markdown",
      "source": [
        "## Add classification\n",
        "\n",
        "We can add a classification step to better predict the empty maps.\n",
        "\n",
        "We will create two classes:\n",
        "\n",
        "- The maps for which the sum of the pixels is < 0.01\n",
        "- The maps for which the sum of the pixels is > 0.01"
      ],
      "metadata": {
        "id": "DyU2AIcFRJ_s"
      }
    },
    {
      "cell_type": "code",
      "source": [
        "sum_depth = Vectorize(function(i){\n",
        "  sum(outputs[,,i])})(1:dim(outputs)[3])"
      ],
      "metadata": {
        "id": "VjcGvgeGRNQ1"
      },
      "execution_count": null,
      "outputs": []
    },
    {
      "cell_type": "markdown",
      "source": [
        "We test the following parameters of the random forest:\n",
        "\n",
        "- classwt = c(0.1,0.9), c(0.3,0.7), c(0.5,0.5), c(0.7,0.3), c(0.9,0.1)\n",
        "- nodesize = c(1,3,5)\n",
        "\n",
        "And for each pair of hyperparameters, we count the number of missclassified elements"
      ],
      "metadata": {
        "id": "nwxV0A3pRPrO"
      }
    },
    {
      "cell_type": "code",
      "source": [
        "set.seed(1)\n",
        "\n",
        "df_search = expand.grid(classwt1 = seq(0.1 ,0.9 ,0.2), nodesize = c(1 ,3 ,5))\n",
        "list_search = list (\"nodesize\" = as.list(df_search[ ,2]), \"classwt\" = lapply(1:nrow(df_search), function(i){c(df_search[i ,1] , 1-df_search[i,1])}))\n",
        "\n",
        "rf_kfold = rf_classif_k_fold(x = design, y = as.factor(sum_depth > 0.01), list_search = list_search, nb_folds = 10)\n",
        "\n",
        "sapply(1: length(rf_kfold), function(i){sum((sum_depth > 0.01) != (rf_kfold[[i]] - 1))})"
      ],
      "metadata": {
        "id": "27EA4YyeRQ0V"
      },
      "execution_count": null,
      "outputs": []
    },
    {
      "cell_type": "markdown",
      "source": [
        "All the pairs lead to the same result, one element is missclassified.\n",
        "\n",
        "For the default pair of hyperparameters, classwt = c(0.5,0.5) and nodesize = 1, we observe the k-fold rmse map. And we do the same without the classification to compare\n"
      ],
      "metadata": {
        "id": "MWo7hXbFRVVw"
      }
    },
    {
      "cell_type": "code",
      "source": [
        "set.seed(10)\n",
        "kfold_classif = rf_rmse_k_fold(design= design, outputs = outputs, list_search = list(\"nodesize\" = as.list(1), \"classwt\" = list(c(0.5,0.5))), nb_folds = 10, threshold_classification = 0.01, threshold_fpca = 0.01, ncoeff = 250, npc=6, return_pred = TRUE)\n",
        "\n",
        "kfold_noclassif = rmse_k_fold(design = design, outputs = outputs, nb_folds = 10,npc_vec = 6,ncoeff_vec = 250)\n",
        "\n",
        "plot_map(kfold_noclassif$outputs_rmse[[1]]-kfold_classif$outputs_rmse[[1]])\n",
        "\n",
        "hist(as.numeric(kfold_noclassif$outputs_rmse[[1]]-kfold_classif$outputs_rmse[[1]]))"
      ],
      "metadata": {
        "id": "Dx8GUQTIRTN2"
      },
      "execution_count": null,
      "outputs": []
    },
    {
      "cell_type": "code",
      "source": [
        "set.seed(3)\n",
        "proba_error = rf_probas_k_fold(design= design, outputs = outputs, list_search = list(\"nodesize\" = as.list(1), \"classwt\" = list(c(0.5,0.5))), nb_folds = 10, density_ratio = density_ratio, prototypes = res_proto_1$prototypes, threshold_classification = 0.01, threshold_fpca = 0.01, ncoeff = 250, npc=6, return_pred = FALSE)$error\n",
        "\n",
        "print(proba_error)"
      ],
      "metadata": {
        "id": "FDEj8WKwRcAN"
      },
      "execution_count": null,
      "outputs": []
    }
  ]
}